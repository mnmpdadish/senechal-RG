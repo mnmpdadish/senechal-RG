{
 "cells": [
  {
   "cell_type": "markdown",
   "metadata": {},
   "source": [
    "# PHQ615 : Calculs "
   ]
  },
  {
   "cell_type": "markdown",
   "metadata": {},
   "source": [
    "## Calcul de la connexion affine et du tenseur de Riemann à partir de la métrique"
   ]
  },
  {
   "cell_type": "markdown",
   "metadata": {},
   "source": [
    "## 2-sphère\n",
    "\n",
    "Calculs de la connexion et du tenseur de Riemann pour la 2-sphère en coordonnées sphériques $\\theta$ et $\\phi$."
   ]
  },
  {
   "cell_type": "code",
   "execution_count": 19,
   "metadata": {},
   "outputs": [
    {
     "data": {
      "text/latex": [
       "$\\displaystyle \\left[\\begin{matrix}\\left(a + b \\cos{\\left(p \\right)}\\right)^{2} & 0\\\\0 & b^{2}\\end{matrix}\\right]$"
      ],
      "text/plain": [
       "⎡              2    ⎤\n",
       "⎢(a + b⋅cos(p))   0 ⎥\n",
       "⎢                   ⎥\n",
       "⎢                  2⎥\n",
       "⎣       0         b ⎦"
      ]
     },
     "execution_count": 19,
     "metadata": {},
     "output_type": "execute_result"
    }
   ],
   "source": [
    "from sympy import *\n",
    "from sympy import Array\n",
    "\n",
    "init_printing()\n",
    "\n",
    "a,b,θ,p = symbols('a,b, θ, p')\n",
    "gd = Array([[(a+b*cos(p))**2, 0],[0, b**2]])\n",
    "coords = Array([θ,p])\n",
    "gu = Array([[(a+b*cos(p))**(-2), 0],[0, 1/(b**2)]])\n",
    "gd"
   ]
  },
  {
   "cell_type": "code",
   "execution_count": 20,
   "metadata": {},
   "outputs": [
    {
     "data": {
      "text/latex": [
       "$\\displaystyle \\left[\\begin{matrix}\\frac{1}{\\left(a + b \\cos{\\left(p \\right)}\\right)^{2}} & 0\\\\0 & \\frac{1}{b^{2}}\\end{matrix}\\right]$"
      ],
      "text/plain": [
       "⎡       1           ⎤\n",
       "⎢───────────────  0 ⎥\n",
       "⎢              2    ⎥\n",
       "⎢(a + b⋅cos(p))     ⎥\n",
       "⎢                   ⎥\n",
       "⎢                 1 ⎥\n",
       "⎢       0         ──⎥\n",
       "⎢                  2⎥\n",
       "⎣                 b ⎦"
      ]
     },
     "execution_count": 20,
     "metadata": {},
     "output_type": "execute_result"
    }
   ],
   "source": [
    "gu"
   ]
  },
  {
   "cell_type": "code",
   "execution_count": 21,
   "metadata": {},
   "outputs": [
    {
     "data": {
      "text/latex": [
       "$\\displaystyle \\left[\\begin{matrix}1 & 0\\\\0 & 1\\end{matrix}\\right]$"
      ],
      "text/plain": [
       "⎡1  0⎤\n",
       "⎢    ⎥\n",
       "⎣0  1⎦"
      ]
     },
     "execution_count": 21,
     "metadata": {},
     "output_type": "execute_result"
    }
   ],
   "source": [
    "tensorcontraction(tensorproduct(gd, gu), (1,2))"
   ]
  },
  {
   "cell_type": "code",
   "execution_count": 22,
   "metadata": {},
   "outputs": [
    {
     "data": {
      "text/latex": [
       "$\\displaystyle \\left[\\begin{matrix}\\left[\\begin{matrix}0 & - b \\left(a + b \\cos{\\left(p \\right)}\\right) \\sin{\\left(p \\right)}\\\\- b \\left(a + b \\cos{\\left(p \\right)}\\right) \\sin{\\left(p \\right)} & 0\\end{matrix}\\right] & \\left[\\begin{matrix}b \\left(a + b \\cos{\\left(p \\right)}\\right) \\sin{\\left(p \\right)} & 0\\\\0 & 0\\end{matrix}\\right]\\end{matrix}\\right]$"
      ],
      "text/plain": [
       "⎡⎡           0              -b⋅(a + b⋅cos(p))⋅sin(p)⎤  ⎡b⋅(a + b⋅cos(p))⋅sin(p\n",
       "⎢⎢                                                  ⎥  ⎢                      \n",
       "⎣⎣-b⋅(a + b⋅cos(p))⋅sin(p)             0            ⎦  ⎣           0          \n",
       "\n",
       ")  0⎤⎤\n",
       "    ⎥⎥\n",
       "   0⎦⎦"
      ]
     },
     "execution_count": 22,
     "metadata": {},
     "output_type": "execute_result"
    }
   ],
   "source": [
    "# connexion affine 'covariante'\n",
    "dg = derive_by_array(gd, coords)\n",
    "gammad = (permutedims(dg,(2,0,1)) + permutedims(dg,(2,1,0))-dg)/2\n",
    "simplify(gammad)"
   ]
  },
  {
   "cell_type": "code",
   "execution_count": 23,
   "metadata": {},
   "outputs": [
    {
     "data": {
      "text/latex": [
       "$\\displaystyle \\left[\\begin{matrix}\\left[\\begin{matrix}0 & - \\frac{b \\sin{\\left(p \\right)}}{a + b \\cos{\\left(p \\right)}}\\\\- \\frac{b \\sin{\\left(p \\right)}}{a + b \\cos{\\left(p \\right)}} & 0\\end{matrix}\\right] & \\left[\\begin{matrix}\\frac{\\left(a + b \\cos{\\left(p \\right)}\\right) \\sin{\\left(p \\right)}}{b} & 0\\\\0 & 0\\end{matrix}\\right]\\end{matrix}\\right]$"
      ],
      "text/plain": [
       "⎡⎡               -b⋅sin(p)  ⎤                            ⎤\n",
       "⎢⎢     0        ────────────⎥  ⎡(a + b⋅cos(p))⋅sin(p)   ⎤⎥\n",
       "⎢⎢              a + b⋅cos(p)⎥  ⎢─────────────────────  0⎥⎥\n",
       "⎢⎢                          ⎥  ⎢          b             ⎥⎥\n",
       "⎢⎢ -b⋅sin(p)                ⎥  ⎢                        ⎥⎥\n",
       "⎢⎢────────────       0      ⎥  ⎣          0            0⎦⎥\n",
       "⎣⎣a + b⋅cos(p)              ⎦                            ⎦"
      ]
     },
     "execution_count": 23,
     "metadata": {},
     "output_type": "execute_result"
    }
   ],
   "source": [
    "# connexion affine\n",
    "Γ = tensorcontraction(tensorproduct(gu, gammad), (1,2))\n",
    "simplify(Γ)"
   ]
  },
  {
   "cell_type": "markdown",
   "metadata": {},
   "source": [
    "## Calcul du tenseur de Riemann"
   ]
  },
  {
   "cell_type": "code",
   "execution_count": 24,
   "metadata": {},
   "outputs": [
    {
     "data": {
      "text/latex": [
       "$\\displaystyle \\left[\\begin{matrix}\\left[\\begin{matrix}0 & 0\\\\0 & 0\\end{matrix}\\right] & \\left[\\begin{matrix}0 & \\frac{b \\cos{\\left(p \\right)}}{a + b \\cos{\\left(p \\right)}}\\\\- \\frac{b \\cos{\\left(p \\right)}}{a + b \\cos{\\left(p \\right)}} & 0\\end{matrix}\\right]\\\\\\left[\\begin{matrix}0 & - \\frac{\\left(a + b \\cos{\\left(p \\right)}\\right) \\cos{\\left(p \\right)}}{b}\\\\\\frac{\\left(a + b \\cos{\\left(p \\right)}\\right) \\cos{\\left(p \\right)}}{b} & 0\\end{matrix}\\right] & \\left[\\begin{matrix}0 & 0\\\\0 & 0\\end{matrix}\\right]\\end{matrix}\\right]$"
      ],
      "text/plain": [
       "⎡                                                  ⎡                b⋅cos(p)  \n",
       "⎢                                                  ⎢     0        ────────────\n",
       "⎢                     ⎡0  0⎤                       ⎢              a + b⋅cos(p)\n",
       "⎢                     ⎢    ⎥                       ⎢                          \n",
       "⎢                     ⎣0  0⎦                       ⎢ -b⋅cos(p)                \n",
       "⎢                                                  ⎢────────────       0      \n",
       "⎢                                                  ⎣a + b⋅cos(p)              \n",
       "⎢                                                                             \n",
       "⎢⎡                       -(a + b⋅cos(p))⋅cos(p) ⎤                             \n",
       "⎢⎢          0            ───────────────────────⎥                             \n",
       "⎢⎢                                  b           ⎥             ⎡0  0⎤          \n",
       "⎢⎢                                              ⎥             ⎢    ⎥          \n",
       "⎢⎢(a + b⋅cos(p))⋅cos(p)                         ⎥             ⎣0  0⎦          \n",
       "⎢⎢─────────────────────             0           ⎥                             \n",
       "⎣⎣          b                                   ⎦                             \n",
       "\n",
       "⎤⎤\n",
       "⎥⎥\n",
       "⎥⎥\n",
       "⎥⎥\n",
       "⎥⎥\n",
       "⎥⎥\n",
       "⎦⎥\n",
       " ⎥\n",
       " ⎥\n",
       " ⎥\n",
       " ⎥\n",
       " ⎥\n",
       " ⎥\n",
       " ⎥\n",
       " ⎦"
      ]
     },
     "execution_count": 24,
     "metadata": {},
     "output_type": "execute_result"
    }
   ],
   "source": [
    "# tenseur de Riemann\n",
    "R1 = derive_by_array(Γ, coords)\n",
    "C = tensorcontraction(tensorproduct(Γ, Γ), (0,4))\n",
    "R = permutedims(R1,(1,2,0,3)) - permutedims(R1,(1,2,3,0)) + permutedims(C,(2,0,3,1)) - permutedims(C,(2,0,1,3))\n",
    "R = simplify(R)\n",
    "R"
   ]
  },
  {
   "cell_type": "code",
   "execution_count": 25,
   "metadata": {},
   "outputs": [
    {
     "data": {
      "text/latex": [
       "$\\displaystyle \\left[\\begin{matrix}\\left[\\begin{matrix}0 & 0\\\\0 & 0\\end{matrix}\\right] & \\left[\\begin{matrix}0 & b \\left(a + b \\cos{\\left(p \\right)}\\right) \\cos{\\left(p \\right)}\\\\- b \\left(a + b \\cos{\\left(p \\right)}\\right) \\cos{\\left(p \\right)} & 0\\end{matrix}\\right]\\\\\\left[\\begin{matrix}0 & - b \\left(a + b \\cos{\\left(p \\right)}\\right) \\cos{\\left(p \\right)}\\\\b \\left(a + b \\cos{\\left(p \\right)}\\right) \\cos{\\left(p \\right)} & 0\\end{matrix}\\right] & \\left[\\begin{matrix}0 & 0\\\\0 & 0\\end{matrix}\\right]\\end{matrix}\\right]$"
      ],
      "text/plain": [
       "⎡                      ⎡0  0⎤                         ⎡           0           \n",
       "⎢                      ⎢    ⎥                         ⎢                       \n",
       "⎢                      ⎣0  0⎦                         ⎣-b⋅(a + b⋅cos(p))⋅cos(p\n",
       "⎢                                                                             \n",
       "⎢⎡           0             -b⋅(a + b⋅cos(p))⋅cos(p)⎤                        ⎡0\n",
       "⎢⎢                                                 ⎥                        ⎢ \n",
       "⎣⎣b⋅(a + b⋅cos(p))⋅cos(p)             0            ⎦                        ⎣0\n",
       "\n",
       "   b⋅(a + b⋅cos(p))⋅cos(p)⎤⎤\n",
       "                          ⎥⎥\n",
       ")             0           ⎦⎥\n",
       "                           ⎥\n",
       "  0⎤                       ⎥\n",
       "   ⎥                       ⎥\n",
       "  0⎦                       ⎦"
      ]
     },
     "execution_count": 25,
     "metadata": {},
     "output_type": "execute_result"
    }
   ],
   "source": [
    "# tenseur de Riemann covariant\n",
    "Rcov =  tensorcontraction(tensorproduct(gd, R), (1,2))\n",
    "Rcov"
   ]
  },
  {
   "cell_type": "code",
   "execution_count": 26,
   "metadata": {},
   "outputs": [
    {
     "data": {
      "text/latex": [
       "$\\displaystyle \\left[\\begin{matrix}\\left[\\begin{matrix}0 & 0\\\\0 & 0\\end{matrix}\\right] & \\left[\\begin{matrix}0 & 0\\\\0 & 0\\end{matrix}\\right]\\\\\\left[\\begin{matrix}0 & 0\\\\0 & 0\\end{matrix}\\right] & \\left[\\begin{matrix}0 & 0\\\\0 & 0\\end{matrix}\\right]\\end{matrix}\\right]$"
      ],
      "text/plain": [
       "⎡⎡0  0⎤  ⎡0  0⎤⎤\n",
       "⎢⎢    ⎥  ⎢    ⎥⎥\n",
       "⎢⎣0  0⎦  ⎣0  0⎦⎥\n",
       "⎢              ⎥\n",
       "⎢⎡0  0⎤  ⎡0  0⎤⎥\n",
       "⎢⎢    ⎥  ⎢    ⎥⎥\n",
       "⎣⎣0  0⎦  ⎣0  0⎦⎦"
      ]
     },
     "execution_count": 26,
     "metadata": {},
     "output_type": "execute_result"
    }
   ],
   "source": [
    "# vérification des propriétés de symétrie de Rcov\n",
    "A = Rcov + permutedims(Rcov,(0,2,3,1)) + permutedims(Rcov,(0,3,1,2))\n",
    "simplify(A)"
   ]
  },
  {
   "cell_type": "code",
   "execution_count": 27,
   "metadata": {},
   "outputs": [
    {
     "data": {
      "text/latex": [
       "$\\displaystyle \\left[\\begin{matrix}0 & 0\\\\0 & 0\\end{matrix}\\right]$"
      ],
      "text/plain": [
       "⎡0  0⎤\n",
       "⎢    ⎥\n",
       "⎣0  0⎦"
      ]
     },
     "execution_count": 27,
     "metadata": {},
     "output_type": "execute_result"
    }
   ],
   "source": [
    "# vérification de la nullité de la contraction des deux premiers indices\n",
    "tensorcontraction(R, (0,1))"
   ]
  },
  {
   "cell_type": "code",
   "execution_count": 28,
   "metadata": {},
   "outputs": [
    {
     "data": {
      "text/latex": [
       "$\\displaystyle \\left[\\begin{matrix}\\frac{\\left(a + b \\cos{\\left(p \\right)}\\right) \\cos{\\left(p \\right)}}{b} & 0\\\\0 & \\frac{b \\cos{\\left(p \\right)}}{a + b \\cos{\\left(p \\right)}}\\end{matrix}\\right]$"
      ],
      "text/plain": [
       "⎡(a + b⋅cos(p))⋅cos(p)              ⎤\n",
       "⎢─────────────────────       0      ⎥\n",
       "⎢          b                        ⎥\n",
       "⎢                                   ⎥\n",
       "⎢                         b⋅cos(p)  ⎥\n",
       "⎢          0            ────────────⎥\n",
       "⎣                       a + b⋅cos(p)⎦"
      ]
     },
     "execution_count": 28,
     "metadata": {},
     "output_type": "execute_result"
    }
   ],
   "source": [
    "# tenseur de Ricci\n",
    "Ricci = tensorcontraction(R, (0,2))\n",
    "Ricci"
   ]
  },
  {
   "cell_type": "code",
   "execution_count": 29,
   "metadata": {},
   "outputs": [
    {
     "data": {
      "image/png": "[encoded data removed]",
      "text/latex": [
       "$\\displaystyle \\frac{2 \\cos{\\left(p \\right)}}{b \\left(a + b \\cos{\\left(p \\right)}\\right)}$"
      ],
      "text/plain": [
       "    2⋅cos(p)    \n",
       "────────────────\n",
       "b⋅(a + b⋅cos(p))"
      ]
     },
     "execution_count": 29,
     "metadata": {},
     "output_type": "execute_result"
    }
   ],
   "source": [
    "# Courbure scalaire\n",
    "Rm = tensorcontraction(tensorproduct(gu,Ricci), (1,2))\n",
    "Rscal = tensorcontraction(Rm, (0,1))\n",
    "simplify(Rscal)"
   ]
  },
  {
   "cell_type": "code",
   "execution_count": 30,
   "metadata": {},
   "outputs": [
    {
     "data": {
      "text/latex": [
       "$\\displaystyle \\left[\\begin{matrix}0 & 0\\\\0 & 0\\end{matrix}\\right]$"
      ],
      "text/plain": [
       "⎡0  0⎤\n",
       "⎢    ⎥\n",
       "⎣0  0⎦"
      ]
     },
     "execution_count": 30,
     "metadata": {},
     "output_type": "execute_result"
    }
   ],
   "source": [
    "# tenseur d'Einstein\n",
    "E = Ricci - gd*Rscal/2\n",
    "E = simplify(E)\n",
    "E"
   ]
  },
  {
   "cell_type": "code",
   "execution_count": 31,
   "metadata": {},
   "outputs": [],
   "source": [
    "def dcov(A, coords, pos):\n",
    "    rank = len(pos)\n",
    "    D1 = derive_by_array(A, coords)\n",
    "    for i in range(rank):\n",
    "        perm = list(range(rank+1))\n",
    "        perm[i+1] = 0\n",
    "        perm[0] = 1\n",
    "        for j in range(1, i+1):\n",
    "            perm[j] += 1\n",
    "        if pos[i] == 0:\n",
    "            print('indice ', i, ' est covariant, perm = ', tuple(perm))\n",
    "            B = tensorcontraction(tensorproduct(Γ, A), (0, i+3))\n",
    "            D1 -= permutedims(B, perm)\n",
    "        else:\n",
    "            print('indice ', i, ' est contravariant, perm = ', tuple(perm))\n",
    "            B = tensorcontraction(tensorproduct(Γ, A), (1, i+3))\n",
    "            D1 += permutedims(B, perm)\n",
    "    return D1\n"
   ]
  },
  {
   "cell_type": "code",
   "execution_count": 32,
   "metadata": {},
   "outputs": [
    {
     "name": "stdout",
     "output_type": "stream",
     "text": [
      "indice  0  est covariant, perm =  (1, 0, 2)\n",
      "indice  1  est covariant, perm =  (1, 2, 0)\n"
     ]
    },
    {
     "data": {
      "text/latex": [
       "$\\displaystyle \\left[\\begin{matrix}\\left[\\begin{matrix}0 & 0\\\\0 & 0\\end{matrix}\\right] & \\left[\\begin{matrix}0 & 0\\\\0 & 0\\end{matrix}\\right]\\end{matrix}\\right]$"
      ],
      "text/plain": [
       "⎡⎡0  0⎤  ⎡0  0⎤⎤\n",
       "⎢⎢    ⎥  ⎢    ⎥⎥\n",
       "⎣⎣0  0⎦  ⎣0  0⎦⎦"
      ]
     },
     "execution_count": 32,
     "metadata": {},
     "output_type": "execute_result"
    }
   ],
   "source": [
    "simplify(dcov(gd, coords, (0,0)))"
   ]
  },
  {
   "cell_type": "code",
   "execution_count": 33,
   "metadata": {},
   "outputs": [
    {
     "name": "stdout",
     "output_type": "stream",
     "text": [
      "indice  0  est covariant, perm =  (1, 0, 2, 3, 4)\n",
      "indice  1  est covariant, perm =  (1, 2, 0, 3, 4)\n",
      "indice  2  est covariant, perm =  (1, 2, 3, 0, 4)\n",
      "indice  3  est covariant, perm =  (1, 2, 3, 4, 0)\n"
     ]
    },
    {
     "data": {
      "text/latex": [
       "$\\displaystyle \\left[\\begin{matrix}\\left[\\begin{matrix}\\left[\\begin{matrix}0 & 0\\\\0 & 0\\end{matrix}\\right] & \\left[\\begin{matrix}0 & 0\\\\0 & 0\\end{matrix}\\right]\\\\\\left[\\begin{matrix}0 & 0\\\\0 & 0\\end{matrix}\\right] & \\left[\\begin{matrix}0 & 0\\\\0 & 0\\end{matrix}\\right]\\end{matrix}\\right] & \\left[\\begin{matrix}\\left[\\begin{matrix}0 & 0\\\\0 & 0\\end{matrix}\\right] & \\left[\\begin{matrix}0 & 0\\\\0 & 0\\end{matrix}\\right]\\\\\\left[\\begin{matrix}0 & 0\\\\0 & 0\\end{matrix}\\right] & \\left[\\begin{matrix}0 & 0\\\\0 & 0\\end{matrix}\\right]\\end{matrix}\\right]\\end{matrix}\\right]$"
      ],
      "text/plain": [
       "⎡⎡⎡0  0⎤  ⎡0  0⎤⎤  ⎡⎡0  0⎤  ⎡0  0⎤⎤⎤\n",
       "⎢⎢⎢    ⎥  ⎢    ⎥⎥  ⎢⎢    ⎥  ⎢    ⎥⎥⎥\n",
       "⎢⎢⎣0  0⎦  ⎣0  0⎦⎥  ⎢⎣0  0⎦  ⎣0  0⎦⎥⎥\n",
       "⎢⎢              ⎥  ⎢              ⎥⎥\n",
       "⎢⎢⎡0  0⎤  ⎡0  0⎤⎥  ⎢⎡0  0⎤  ⎡0  0⎤⎥⎥\n",
       "⎢⎢⎢    ⎥  ⎢    ⎥⎥  ⎢⎢    ⎥  ⎢    ⎥⎥⎥\n",
       "⎣⎣⎣0  0⎦  ⎣0  0⎦⎦  ⎣⎣0  0⎦  ⎣0  0⎦⎦⎦"
      ]
     },
     "execution_count": 33,
     "metadata": {},
     "output_type": "execute_result"
    }
   ],
   "source": [
    "# identité de Bianchi\n",
    "\n",
    "B = dcov(Rcov, coords, (0,0,0,0))\n",
    "permutedims(B, (1,2,3,4,0))+permutedims(B, (1,2,0,3,4))+permutedims(B, (1,2,4,0,3))"
   ]
  },
  {
   "cell_type": "code",
   "execution_count": null,
   "metadata": {},
   "outputs": [],
   "source": []
  }
 ],
 "metadata": {
  "kernelspec": {
   "display_name": "Python 3",
   "language": "python",
   "name": "python3"
  },
  "language_info": {
   "codemirror_mode": {
    "name": "ipython",
    "version": 3
   },
   "file_extension": ".py",
   "mimetype": "text/x-python",
   "name": "python",
   "nbconvert_exporter": "python",
   "pygments_lexer": "ipython3",
   "version": "3.8.10"
  }
 },
 "nbformat": 4,
 "nbformat_minor": 2
}
